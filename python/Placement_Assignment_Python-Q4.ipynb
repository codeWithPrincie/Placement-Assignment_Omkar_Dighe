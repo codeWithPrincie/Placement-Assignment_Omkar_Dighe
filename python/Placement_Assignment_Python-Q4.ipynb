{
 "cells": [
  {
   "cell_type": "markdown",
   "id": "803edb38",
   "metadata": {},
   "source": [
    "**Question 4**\n",
    "\n",
    "Write a program to download the data from the link given below and then read the data and convert the into\n",
    "the proper structure and return it as a CSV file.\n",
    "\n",
    "**Link** - https://data.nasa.gov/resource/y77d-th95.json\n",
    "**Note** - Write code comments wherever needed for code understanding.\n",
    "\n",
    "**Sample Data**\n",
    "\n",
    "{ \"name\": \"Tomakovka\", \"id\" : \"24019\", \"nametype\": \"Valid\", \"recclass\": \"LL6\" \"mass\": \"600\", \"fall\": \"Fell\", \"year\": \"1905-01-01700:00:00.000\", \"eclat\": \"47.850000\", \"eclong\": \"34.766670\", \"geolocation\": { \"type\": \"Point\", \"coordinates\": [ 34, 76667, 47.85] } }\n",
    "\n",
    "**Excepted Output Data Attributes**\n",
    "\n",
    "Name of Earth Meteorite - string id - ID of Earth\n",
    "Meteorite - int nametype - string recclass - string\n",
    "mass - Mass of Earth Meteorite - float year - Year at which Earth\n",
    "Meteorite was hit - datetime format reclat - float recclong - float\n",
    "point coordinates - list of int"
   ]
  },
  {
   "cell_type": "code",
   "execution_count": 19,
   "id": "b74f49a0",
   "metadata": {},
   "outputs": [
    {
     "data": {
      "text/plain": [
       "'meteorite_data.csv'"
      ]
     },
     "execution_count": 19,
     "metadata": {},
     "output_type": "execute_result"
    }
   ],
   "source": [
    "import requests\n",
    "import pandas as pd\n",
    "\n",
    "# Download the data from the given link\n",
    "url = \"https://data.nasa.gov/resource/y77d-th95.json\"\n",
    "response = requests.get(url)\n",
    "data = response.json()\n",
    "\n",
    "# Process the data and extract the required attributes\n",
    "processed_data = []\n",
    "for item in data:\n",
    "    try:\n",
    "        entry = {\n",
    "            \"Name of Earth Meteorite\": item.get(\"name\", \"\"),\n",
    "            \"id\": int(item.get(\"id\", \"\")),\n",
    "            \"nametype\": item.get(\"nametype\", \"\"),\n",
    "            \"recclass\": item.get(\"recclass\", \"\"),\n",
    "            \"mass\": float(item.get(\"mass\", \"\")),\n",
    "            \"year\": pd.to_datetime(item.get(\"year\", \"\"), errors='coerce'),\n",
    "            \"reclat\": float(item.get(\"reclat\", \"\")),\n",
    "            \"reclong\": float(item.get(\"reclong\", \"\")),\n",
    "            \"point coordinates\": item.get(\"geolocation\", {}).get(\"coordinates\", [])\n",
    "        }\n",
    "        processed_data.append(entry)\n",
    "    except ValueError:\n",
    "        # Skip the entry if conversion to float or int fails\n",
    "        pass\n",
    "\n",
    "# Create a DataFrame from the processed data\n",
    "df = pd.DataFrame(processed_data)\n",
    "\n",
    "# Save the DataFrame as a CSV file\n",
    "output_file = \"meteorite_data.csv\"\n",
    "df.to_csv(output_file, index=False)\n",
    "\n",
    "# Display the path to the generated file\n",
    "output_file"
   ]
  },
  {
   "cell_type": "code",
   "execution_count": null,
   "id": "97887415",
   "metadata": {},
   "outputs": [],
   "source": []
  }
 ],
 "metadata": {
  "kernelspec": {
   "display_name": "Python 3 (ipykernel)",
   "language": "python",
   "name": "python3"
  },
  "language_info": {
   "codemirror_mode": {
    "name": "ipython",
    "version": 3
   },
   "file_extension": ".py",
   "mimetype": "text/x-python",
   "name": "python",
   "nbconvert_exporter": "python",
   "pygments_lexer": "ipython3",
   "version": "3.9.12"
  }
 },
 "nbformat": 4,
 "nbformat_minor": 5
}
