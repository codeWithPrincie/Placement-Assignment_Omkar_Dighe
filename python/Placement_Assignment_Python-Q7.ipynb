{
 "cells": [
  {
   "cell_type": "markdown",
   "id": "2fe1a335",
   "metadata": {},
   "source": [
    "**Question 7 -**\n",
    "\n",
    "Using the data from Question 4, write code to analyze the data and answer the following questions Note -\n",
    "\n",
    "1. Draw plots to demonstrate the analysis for the following questions for better visualizations\n",
    "\n",
    "2. Write code comments wherever required for code understanding\n",
    "\n",
    "**Insights to be drawn -**\n",
    "\n",
    "● Get all the Earth meteorites that fell before the year 2000\n",
    "\n",
    "● Get all the earth meteorites co-ordinates who fell before the year 1970\n",
    "\n",
    "● Assuming that the mass of the earth meteorites was in kg, get all those whose mass was more\n",
    "than 10000kg"
   ]
  },
  {
   "cell_type": "code",
   "execution_count": 25,
   "id": "b9781549",
   "metadata": {},
   "outputs": [
    {
     "name": "stdout",
     "output_type": "stream",
     "text": [
      "Earth meteorites that fell before the year 2000:\n",
      "        name     id nametype recclass mass  fall       year     reclat  \\\n",
      "0  Tomakovka  24019    Valid      LL6  600  Fell 1905-01-01  47.850000   \n",
      "\n",
      "     reclong                                        geolocation  \n",
      "0  34.766670  {'type': 'Point', 'coordinates': [34.76667, 47...  \n",
      "\n",
      "Earth meteorites coordinates that fell before the year 1970:\n",
      "0    [34.76667, 47.85]\n",
      "Name: geolocation, dtype: object\n",
      "\n",
      "Earth meteorites with mass more than 10000 kg:\n",
      "Empty DataFrame\n",
      "Columns: [name, id, nametype, recclass, mass, fall, year, reclat, reclong, geolocation]\n",
      "Index: []\n",
      "\n"
     ]
    },
    {
     "data": {
      "image/png": "[encoded data removed]",
      "text/plain": [
       "<Figure size 720x432 with 1 Axes>"
      ]
     },
     "metadata": {
      "needs_background": "light"
     },
     "output_type": "display_data"
    }
   ],
   "source": [
    "import pandas as pd\n",
    "import matplotlib.pyplot as plt\n",
    "\n",
    "# Function to process the data and convert it to a DataFrame\n",
    "def process_data(data):\n",
    "    df = pd.DataFrame(data)\n",
    "    return df\n",
    "\n",
    "# Function to plot a histogram\n",
    "def plot_histogram(data, xlabel, ylabel, title):\n",
    "    plt.figure(figsize=(10, 6))\n",
    "    plt.hist(data, bins=20)\n",
    "    plt.xlabel(xlabel)\n",
    "    plt.ylabel(ylabel)\n",
    "    plt.title(title)\n",
    "    plt.show()\n",
    "\n",
    "# Main program\n",
    "def main():\n",
    "    data = [\n",
    "        {\n",
    "            \"name\": \"Tomakovka\",\n",
    "            \"id\": \"24019\",\n",
    "            \"nametype\": \"Valid\",\n",
    "            \"recclass\": \"LL6\",\n",
    "            \"mass\": \"600\",\n",
    "            \"fall\": \"Fell\",\n",
    "            \"year\": \"1905-01-01T00:00:00.000\",\n",
    "            \"reclat\": \"47.850000\",\n",
    "            \"reclong\": \"34.766670\",\n",
    "            \"geolocation\": {\n",
    "                \"type\": \"Point\",\n",
    "                \"coordinates\": [34.76667, 47.85]\n",
    "            }\n",
    "        }\n",
    "        # Add more data entries here if available\n",
    "    ]\n",
    "\n",
    "    if data:\n",
    "        df = process_data(data)\n",
    "\n",
    "        # Get all the Earth meteorites that fell before the year 2000\n",
    "        df[\"year\"] = pd.to_datetime(df[\"year\"])\n",
    "        before_2000 = df[df[\"year\"].dt.year < 2000]\n",
    "        print(\"Earth meteorites that fell before the year 2000:\")\n",
    "        print(before_2000)\n",
    "        print()\n",
    "\n",
    "        # Get all the Earth meteorites coordinates that fell before the year 1970\n",
    "        before_1970 = df[df[\"year\"].dt.year < 1970]\n",
    "        coordinates = before_1970[\"geolocation\"].apply(lambda x: x[\"coordinates\"])\n",
    "        print(\"Earth meteorites coordinates that fell before the year 1970:\")\n",
    "        print(coordinates)\n",
    "        print()\n",
    "\n",
    "        # Assuming that the mass of the Earth meteorites was in kg, get all those whose mass was more than 10000 kg\n",
    "        df[\"mass\"] = df[\"mass\"].astype(float)\n",
    "        more_than_10000kg = df[df[\"mass\"] > 10000]\n",
    "        print(\"Earth meteorites with mass more than 10000 kg:\")\n",
    "        print(more_than_10000kg)\n",
    "        print()\n",
    "\n",
    "        # Plotting the analysis\n",
    "\n",
    "        # Histogram of mass\n",
    "        plot_histogram(df[\"mass\"], \"Mass (kg)\", \"Count\", \"Distribution of Earth Meteorite Mass\")\n",
    "\n",
    "    else:\n",
    "        print(\"No data available.\")\n",
    "\n",
    "if __name__ == \"__main__\":\n",
    "    main()\n",
    "\n"
   ]
  },
  {
   "cell_type": "code",
   "execution_count": null,
   "id": "bd5f7030",
   "metadata": {},
   "outputs": [],
   "source": []
  }
 ],
 "metadata": {
  "kernelspec": {
   "display_name": "Python 3 (ipykernel)",
   "language": "python",
   "name": "python3"
  },
  "language_info": {
   "codemirror_mode": {
    "name": "ipython",
    "version": 3
   },
   "file_extension": ".py",
   "mimetype": "text/x-python",
   "name": "python",
   "nbconvert_exporter": "python",
   "pygments_lexer": "ipython3",
   "version": "3.9.12"
  }
 },
 "nbformat": 4,
 "nbformat_minor": 5
}
