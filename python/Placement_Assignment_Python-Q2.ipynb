{
 "cells": [
  {
   "cell_type": "markdown",
   "id": "c8839881",
   "metadata": {},
   "source": [
    "**Question 2**: -\n",
    "    \n",
    "Consider a string to be valid if all characters of the string appear the same number of times. It is also valid if\n",
    "he can remove just one character at the index in the string, and the remaining characters will occur the same\n",
    "number of times. Given a string, determine if it is valid. If so, return YES , otherwise return NO .\n",
    "\n",
    "**Note -** You have to write at least 2 additional test cases in which your program will run successfully and provide\n",
    "an explanation for the same.\n",
    "\n",
    "**Example input 1 -** s = “abc”. This is a valid string because frequencies are { “a”: 1, “b”: 1, “c”: 1 }\n",
    "\n",
    "**Example output 1**- YES\n",
    "\n",
    "**Example input 2 -** s “abcc”. This string is not valid as we can remove only 1 occurrence of “c”. That leaves\n",
    "character frequencies of { “a”: 1, “b”: 1 , “c”: 2 }\n",
    "\n",
    "**Example output 2 -** NO"
   ]
  },
  {
   "cell_type": "code",
   "execution_count": 6,
   "id": "dd05253a",
   "metadata": {},
   "outputs": [],
   "source": [
    "def isValidString(s):\n",
    "    freq = {}\n",
    "    for char in s:\n",
    "        freq[char] = freq.get(char, 0) + 1\n",
    "\n",
    "    counts = list(freq.values())\n",
    "    unique_counts = list(set(counts))\n",
    "\n",
    "    if len(unique_counts) == 1:\n",
    "        return \"YES\"\n",
    "\n",
    "    if len(unique_counts) > 2:\n",
    "        return \"NO\"\n",
    "\n",
    "    if counts.count(unique_counts[0]) == 1 and unique_counts[0] == 1:\n",
    "        return \"YES\"\n",
    "    elif counts.count(unique_counts[1]) == 1 and unique_counts[1] == 1:\n",
    "        return \"YES\"\n",
    "\n",
    "    return \"NO\"\n"
   ]
  },
  {
   "cell_type": "code",
   "execution_count": 7,
   "id": "c8ea229c",
   "metadata": {},
   "outputs": [
    {
     "name": "stdout",
     "output_type": "stream",
     "text": [
      "YES\n"
     ]
    }
   ],
   "source": [
    "# Test case 1\n",
    "\n",
    "s1 = \"abc\"\n",
    "print(isValidString(s1))"
   ]
  },
  {
   "cell_type": "code",
   "execution_count": 8,
   "id": "1f742093",
   "metadata": {},
   "outputs": [
    {
     "name": "stdout",
     "output_type": "stream",
     "text": [
      "NO\n"
     ]
    }
   ],
   "source": [
    "# Test case 2\n",
    "\n",
    "s2 = \"abcc\"\n",
    "print(isValidString(s2))"
   ]
  },
  {
   "cell_type": "code",
   "execution_count": 9,
   "id": "10188a50",
   "metadata": {},
   "outputs": [
    {
     "name": "stdout",
     "output_type": "stream",
     "text": [
      "YES\n"
     ]
    }
   ],
   "source": [
    "# Test case 3\n",
    "\n",
    "s3 = \"aaabbbccc\"\n",
    "print(isValidString(s3))"
   ]
  },
  {
   "cell_type": "code",
   "execution_count": 10,
   "id": "1ecc0804",
   "metadata": {},
   "outputs": [
    {
     "name": "stdout",
     "output_type": "stream",
     "text": [
      "NO\n"
     ]
    }
   ],
   "source": [
    "# Test Case 4\n",
    "\n",
    "s4 = \"aabbbcc\"\n",
    "print(isValidString(s4))"
   ]
  }
 ],
 "metadata": {
  "kernelspec": {
   "display_name": "Python 3 (ipykernel)",
   "language": "python",
   "name": "python3"
  },
  "language_info": {
   "codemirror_mode": {
    "name": "ipython",
    "version": 3
   },
   "file_extension": ".py",
   "mimetype": "text/x-python",
   "name": "python",
   "nbconvert_exporter": "python",
   "pygments_lexer": "ipython3",
   "version": "3.9.12"
  }
 },
 "nbformat": 4,
 "nbformat_minor": 5
}
