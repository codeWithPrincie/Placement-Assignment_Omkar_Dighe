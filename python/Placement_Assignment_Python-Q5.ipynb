{
 "cells": [
  {
   "cell_type": "markdown",
   "id": "5a4ebfc2",
   "metadata": {},
   "source": [
    "**Question 5-**\n",
    "\n",
    "Write a program to download the data from the given API link and then extract the following data with\n",
    "proper formatting\n",
    "\n",
    "**Link -** http://api.tvmaze.com/singlesearch/shows?q=westworld&embed=episodes\n",
    "**Note -** Write proper code comments wherever needed for the code understanding\n",
    "\n",
    "**Excepted Output Data Attributes -**\n",
    "\n",
    "● id - int url - string\n",
    "● name - string season\n",
    "● - int number - int\n",
    "● type - string airdate -\n",
    "● date format airtime -\n",
    "● 12-hour time format\n",
    "● runtime - float\n",
    "● average rating - float\n",
    "● summary - string\n",
    "● without html tags\n",
    "● medium image link - string\n",
    "● Original image link - string\n",
    "\n"
   ]
  },
  {
   "cell_type": "code",
   "execution_count": 20,
   "id": "2b7840df",
   "metadata": {},
   "outputs": [
    {
     "name": "stdout",
     "output_type": "stream",
     "text": [
      "id: 1371\n",
      "url: https://www.tvmaze.com/shows/1371/westworld\n",
      "name: Westworld\n",
      "season: \n",
      "number: \n",
      "type: Scripted\n",
      "airdate: \n",
      "airtime: \n",
      "runtime: 60\n",
      "average rating: 8.2\n",
      "summary: <b>Westworld</b> is a dark odyssey about the dawn of artificial consciousness and the evolution of sin. Set at the intersection of the near future and the reimagined past, it explores a world in which every human appetite, no matter how noble or depraved, can be indulged.\n",
      "medium image link: https://static.tvmaze.com/uploads/images/medium_portrait/445/1113927.jpg\n",
      "original image link: https://static.tvmaze.com/uploads/images/original_untouched/445/1113927.jpg\n"
     ]
    }
   ],
   "source": [
    "import requests\n",
    "\n",
    "# Download data from the API\n",
    "url = \"http://api.tvmaze.com/singlesearch/shows?q=westworld&embed=episodes\"\n",
    "response = requests.get(url)\n",
    "data = response.json()\n",
    "\n",
    "# Extract the required data attributes\n",
    "id = data.get(\"id\", \"\")\n",
    "url = data.get(\"url\", \"\")\n",
    "name = data.get(\"name\", \"\")\n",
    "season = data.get(\"season\", \"\")\n",
    "number = data.get(\"number\", \"\")\n",
    "type = data.get(\"type\", \"\")\n",
    "airdate = data.get(\"airdate\", \"\")\n",
    "airtime = data.get(\"airtime\", \"\")\n",
    "runtime = data.get(\"runtime\", \"\")\n",
    "rating = data.get(\"rating\", {}).get(\"average\", \"\")\n",
    "summary = data.get(\"summary\", \"\").replace(\"<p>\", \"\").replace(\"</p>\", \"\")\n",
    "image = data.get(\"image\", {})\n",
    "medium_image_link = image.get(\"medium\", \"\")\n",
    "original_image_link = image.get(\"original\", \"\")\n",
    "\n",
    "# Print the extracted data attributes\n",
    "print(\"id:\", id)\n",
    "print(\"url:\", url)\n",
    "print(\"name:\", name)\n",
    "print(\"season:\", season)\n",
    "print(\"number:\", number)\n",
    "print(\"type:\", type)\n",
    "print(\"airdate:\", airdate)\n",
    "print(\"airtime:\", airtime)\n",
    "print(\"runtime:\", runtime)\n",
    "print(\"average rating:\", rating)\n",
    "print(\"summary:\", summary)\n",
    "print(\"medium image link:\", medium_image_link)\n",
    "print(\"original image link:\", original_image_link)"
   ]
  },
  {
   "cell_type": "code",
   "execution_count": null,
   "id": "0aa0cbd3",
   "metadata": {},
   "outputs": [],
   "source": []
  }
 ],
 "metadata": {
  "kernelspec": {
   "display_name": "Python 3 (ipykernel)",
   "language": "python",
   "name": "python3"
  },
  "language_info": {
   "codemirror_mode": {
    "name": "ipython",
    "version": 3
   },
   "file_extension": ".py",
   "mimetype": "text/x-python",
   "name": "python",
   "nbconvert_exporter": "python",
   "pygments_lexer": "ipython3",
   "version": "3.9.12"
  }
 },
 "nbformat": 4,
 "nbformat_minor": 5
}
