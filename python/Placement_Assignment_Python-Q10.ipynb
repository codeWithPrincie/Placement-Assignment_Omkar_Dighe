{
 "cells": [
  {
   "cell_type": "markdown",
   "id": "2706cf85",
   "metadata": {},
   "source": [
    "**Question 10-**\n",
    "\n",
    "Write a program to count the number of verbs, nouns, pronouns, and adjectives in a given particular phrase or\n",
    "paragraph, and return their respective count as a dictionary.\n",
    "\n",
    "**Note -**\n",
    "\n",
    "1. Write code comments wherever required for code\n",
    "\n",
    "2. You have to write at least 2 additional test cases in which your program will run successfully and provide\n",
    "an explanation for the same."
   ]
  },
  {
   "cell_type": "code",
   "execution_count": 9,
   "id": "d5a48282",
   "metadata": {},
   "outputs": [
    {
     "name": "stdout",
     "output_type": "stream",
     "text": [
      "Note: you may need to restart the kernel to use updated packages.Defaulting to user installation because normal site-packages is not writeable\n",
      "\n",
      "Requirement already satisfied: nltk in c:\\programdata\\anaconda3\\lib\\site-packages (3.7)\n",
      "Requirement already satisfied: click in c:\\programdata\\anaconda3\\lib\\site-packages (from nltk) (8.0.4)\n",
      "Requirement already satisfied: joblib in c:\\programdata\\anaconda3\\lib\\site-packages (from nltk) (1.1.0)\n",
      "Requirement already satisfied: regex>=2021.8.3 in c:\\programdata\\anaconda3\\lib\\site-packages (from nltk) (2022.3.15)\n",
      "Requirement already satisfied: tqdm in c:\\programdata\\anaconda3\\lib\\site-packages (from nltk) (4.64.0)\n",
      "Requirement already satisfied: colorama in c:\\users\\hp\\appdata\\roaming\\python\\python39\\site-packages (from click->nltk) (0.4.6)\n"
     ]
    }
   ],
   "source": [
    "pip install nltk"
   ]
  },
  {
   "cell_type": "code",
   "execution_count": 16,
   "id": "38ad999d",
   "metadata": {},
   "outputs": [
    {
     "name": "stdout",
     "output_type": "stream",
     "text": [
      "POS Counts for Test Case 1:\n",
      "{'nouns': 2, 'pronoun': 0, 'verb': 1, 'adjective': 0}\n",
      "\n",
      "POS Counts for Test Case 2:\n",
      "{'nouns': 8, 'pronoun': 3, 'verb': 8, 'adjective': 1}\n",
      "\n",
      "POS Counts for Test Case 3:\n",
      "{'nouns': 2, 'pronoun': 1, 'verb': 2, 'adjective': 0}\n",
      "\n",
      "POS Counts for Test Case 4:\n",
      "{'nouns': 10, 'pronoun': 2, 'verb': 6, 'adjective': 3}\n"
     ]
    }
   ],
   "source": [
    "import nltk\n",
    "from nltk.tokenize import word_tokenize\n",
    "from nltk.tag import pos_tag\n",
    "\n",
    "def count_pos_tags(text):\n",
    "    # Tokenize the text\n",
    "    tokens = word_tokenize(text)\n",
    "\n",
    "    # Perform part-of-speech tagging\n",
    "    tagged_tokens = pos_tag(tokens)\n",
    "\n",
    "    # Initialize counts\n",
    "    verb_count = 0\n",
    "    noun_count = 0\n",
    "    pronoun_count = 0\n",
    "    adjective_count = 0\n",
    "\n",
    "    # Count the tags\n",
    "    for word, tag in tagged_tokens:\n",
    "        if tag.startswith('VB'):  # Verbs\n",
    "            verb_count += 1\n",
    "        elif tag.startswith('NN'):  # Nouns\n",
    "            noun_count += 1\n",
    "        elif tag.startswith('PR'):  # Pronouns\n",
    "            pronoun_count += 1\n",
    "        elif tag.startswith('JJ'):  # Adjectives\n",
    "            adjective_count += 1\n",
    "\n",
    "    # Create a dictionary of counts\n",
    "    pos_counts = {\n",
    "        \"nouns\": noun_count,\n",
    "        \"pronoun\": pronoun_count,\n",
    "        \"verb\": verb_count,\n",
    "        \"adjective\": adjective_count\n",
    "    }\n",
    "\n",
    "    return pos_counts\n",
    "\n",
    "# Test Case 1: Counting POS tags in a simple phrase\n",
    "phrase1 = \"The cat jumps over the wall.\"\n",
    "result1 = count_pos_tags(phrase1)\n",
    "print(\"POS Counts for Test Case 1:\")\n",
    "print(result1)\n",
    "\n",
    "# Test Case 2: Counting POS tags in a paragraph\n",
    "paragraph = \"\"\"\n",
    "I went for a walk in the park. The sun was shining brightly. Birds were chirping on the trees.\n",
    "I saw a squirrel climbing a tree. It was a beautiful sight.\n",
    "\"\"\"\n",
    "result2 = count_pos_tags(paragraph)\n",
    "print(\"\\nPOS Counts for Test Case 2:\")\n",
    "print(result2)\n",
    "\n",
    "# Additional Test Case 3: Counting POS tags in a complex sentence\n",
    "sentence = \"She quickly ran to the store and bought some groceries.\"\n",
    "result3 = count_pos_tags(sentence)\n",
    "print(\"\\nPOS Counts for Test Case 3:\")\n",
    "print(result3)\n",
    "\n",
    "# Additional Test Case 4: Counting POS tags in a longer paragraph\n",
    "long_paragraph = \"\"\"\n",
    "The big brown dog barked loudly and chased the small white cat. \n",
    "They ran around the garden, jumping over the flowers and playing with a ball.\n",
    "The dog wagged its tail happily while the cat purred softly.\n",
    "\"\"\"\n",
    "result4 = count_pos_tags(long_paragraph)\n",
    "print(\"\\nPOS Counts for Test Case 4:\")\n",
    "print(result4)\n"
   ]
  },
  {
   "cell_type": "code",
   "execution_count": null,
   "id": "7b3bddc5",
   "metadata": {},
   "outputs": [],
   "source": []
  }
 ],
 "metadata": {
  "kernelspec": {
   "display_name": "Python 3 (ipykernel)",
   "language": "python",
   "name": "python3"
  },
  "language_info": {
   "codemirror_mode": {
    "name": "ipython",
    "version": 3
   },
   "file_extension": ".py",
   "mimetype": "text/x-python",
   "name": "python",
   "nbconvert_exporter": "python",
   "pygments_lexer": "ipython3",
   "version": "3.9.12"
  }
 },
 "nbformat": 4,
 "nbformat_minor": 5
}
