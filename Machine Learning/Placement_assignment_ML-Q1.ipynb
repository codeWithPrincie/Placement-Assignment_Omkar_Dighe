{
 "cells": [
  {
   "cell_type": "markdown",
   "id": "3876be5c",
   "metadata": {},
   "source": [
    "Q-1. \n",
    "\n",
    "Imagine you have a dataset where you have different Instagram features\n",
    "like u sername , Caption , Hashtag , Followers , Time_Since_posted , and likes , now your task is\n",
    "to predict the number of likes and Time Since posted and the rest of the features are\n",
    "your input features. Now you have to build a model which can predict the\n",
    "number of likes and Time Since posted.\n",
    "Dataset This is the Dataset You can use this dataset for this question."
   ]
  },
  {
   "cell_type": "code",
   "execution_count": 16,
   "id": "4abd8c11",
   "metadata": {},
   "outputs": [
    {
     "name": "stdout",
     "output_type": "stream",
     "text": [
      "Mean Squared Error (Likes): 1458.390457111242\n",
      "Mean Squared Error (Time Since Posted): 11.890978804055697\n"
     ]
    }
   ],
   "source": [
    "import pandas as pd\n",
    "from sklearn.model_selection import train_test_split\n",
    "from sklearn.linear_model import LinearRegression\n",
    "from sklearn.metrics import mean_squared_error\n",
    "from sklearn.preprocessing import LabelEncoder\n",
    "\n",
    "# Load the dataset\n",
    "data = pd.read_csv(\"https://raw.githubusercontent.com/OmkarDighe/Datasets/main/instagram_reach.csv\")\n",
    "\n",
    "# Apply label encoding to categorical columns\n",
    "label_encoder = LabelEncoder()\n",
    "data['USERNAME'] = label_encoder.fit_transform(data['USERNAME'])\n",
    "data['Caption'] = label_encoder.fit_transform(data['Caption'])\n",
    "data['Hashtags'] = label_encoder.fit_transform(data['Hashtags'])\n",
    "\n",
    "# Preprocess the \"Time_Since_Posted\" column\n",
    "data['Time since posted'] = data['Time since posted'].str.extract('(\\d+)').astype(float)\n",
    "\n",
    "# Split the dataset into input features (X) and target variables (y)\n",
    "X = data[['USERNAME', 'Caption', 'Hashtags', 'Followers']]\n",
    "y_likes = data['Likes']\n",
    "y_time_since_posted = data['Time since posted']\n",
    "\n",
    "# Split the dataset into training and testing sets\n",
    "X_train, X_test, y_likes_train, y_likes_test, y_time_train, y_time_test = train_test_split(X, y_likes, y_time_since_posted, test_size=0.2, random_state=42)\n",
    "\n",
    "# Train the model to predict the number of likes\n",
    "likes_model = LinearRegression()\n",
    "likes_model.fit(X_train, y_likes_train)\n",
    "\n",
    "# Make predictions on the test set for the number of likes\n",
    "y_likes_pred = likes_model.predict(X_test)\n",
    "\n",
    "# Calculate the mean squared error for the likes predictions\n",
    "likes_mse = mean_squared_error(y_likes_test, y_likes_pred)\n",
    "print(\"Mean Squared Error (Likes):\", likes_mse)\n",
    "\n",
    "# Train the model to predict the time since posted\n",
    "time_model = LinearRegression()\n",
    "time_model.fit(X_train, y_time_train)\n",
    "\n",
    "# Make predictions on the test set for the time since posted\n",
    "y_time_pred = time_model.predict(X_test)\n",
    "\n",
    "# Calculate the mean squared error for the time since posted predictions\n",
    "time_mse = mean_squared_error(y_time_test, y_time_pred)\n",
    "print(\"Mean Squared Error (Time Since Posted):\", time_mse)\n"
   ]
  }
 ],
 "metadata": {
  "kernelspec": {
   "display_name": "Python 3 (ipykernel)",
   "language": "python",
   "name": "python3"
  },
  "language_info": {
   "codemirror_mode": {
    "name": "ipython",
    "version": 3
   },
   "file_extension": ".py",
   "mimetype": "text/x-python",
   "name": "python",
   "nbconvert_exporter": "python",
   "pygments_lexer": "ipython3",
   "version": "3.9.12"
  }
 },
 "nbformat": 4,
 "nbformat_minor": 5
}
