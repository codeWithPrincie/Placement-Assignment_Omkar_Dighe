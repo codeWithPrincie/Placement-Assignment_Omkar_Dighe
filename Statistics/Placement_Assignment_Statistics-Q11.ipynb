{
 "cells": [
  {
   "cell_type": "markdown",
   "id": "ec32530d",
   "metadata": {},
   "source": [
    "**Q-11.** \n",
    "\n",
    "**Given the data of a feature contributing to different classes**\n",
    "\n",
    "https://drive.google.com/file/d/1mCjtYHiX--mMUjicuaP2gH3k-SnFxt8Y/view?usp\n",
    "=share_\n",
    "\n",
    "**a. Check whether the distribution of all the classes are the same or not.**\n",
    "\n",
    "**b. Check for the equality of variance/**\n",
    "\n",
    "**c. Which amount LDA and QDA would perform better on this data for\n",
    "classification and why.**\n",
    "\n",
    "**d. Check the equality of mean for between all the classes.**"
   ]
  },
  {
   "cell_type": "markdown",
   "id": "1572f475",
   "metadata": {},
   "source": [
    "**Ans.**"
   ]
  },
  {
   "cell_type": "code",
   "execution_count": 50,
   "id": "d0099576",
   "metadata": {},
   "outputs": [
    {
     "name": "stdout",
     "output_type": "stream",
     "text": [
      "   Patient ID   Blood Pressure Before (mmHg)   Blood Pressure After (mmHg)\n",
      "0           1                            130                           120\n",
      "1           2                            142                           135\n",
      "2           3                            120                           118\n",
      "3           4                            135                           127\n",
      "4           5                            148                           140\n"
     ]
    }
   ],
   "source": [
    "import pandas as pd\n",
    "import scipy.stats as stats\n",
    "\n",
    "# Load the dataset\n",
    "data_url = \"data.csv\"\n",
    "data = pd.read_csv(data_url)\n",
    "\n",
    "# Display the first few rows of the dataset\n",
    "print(data.head())"
   ]
  },
  {
   "cell_type": "markdown",
   "id": "c2b8166f",
   "metadata": {},
   "source": [
    "a. Checking the distribution of classes:\n",
    "\n",
    "To check whether the distributions of all the classes are the same or not, we can perform a one-way ANOVA (Analysis of Variance) test. The null hypothesis is that the means of all the classes are equal, and an alternative hypothesis is that at least one mean is different."
   ]
  },
  {
   "cell_type": "code",
   "execution_count": 51,
   "id": "c5f4518d",
   "metadata": {},
   "outputs": [
    {
     "name": "stdout",
     "output_type": "stream",
     "text": [
      "a. One-way ANOVA:\n",
      "   The distributions of the classes are not the same.\n"
     ]
    }
   ],
   "source": [
    "# Perform one-way ANOVA\n",
    "result = stats.f_oneway(data['Patient ID'], data[' Blood Pressure Before (mmHg)'], data[' Blood Pressure After (mmHg)'])\n",
    "p_value = result.pvalue\n",
    "\n",
    "# Print the result\n",
    "print(\"a. One-way ANOVA:\")\n",
    "if p_value < 0.05:\n",
    "    print(\"   The distributions of the classes are not the same.\")\n",
    "else:\n",
    "    print(\"   The distributions of the classes are the same.\")"
   ]
  },
  {
   "cell_type": "markdown",
   "id": "4dfb43b1",
   "metadata": {},
   "source": [
    "b. Checking the equality of variance:\n",
    "\n",
    "To check for the equality of variances between the classes, we can perform Levene's test. "
   ]
  },
  {
   "cell_type": "code",
   "execution_count": 52,
   "id": "282b7c4c",
   "metadata": {},
   "outputs": [
    {
     "name": "stdout",
     "output_type": "stream",
     "text": [
      "b. Levene's test:\n",
      "   The variances of the classes are not equal.\n"
     ]
    }
   ],
   "source": [
    "# Perform Levene's test\n",
    "result = stats.levene(data['Patient ID'], data[' Blood Pressure Before (mmHg)'], data[' Blood Pressure After (mmHg)'])\n",
    "p_value = result.pvalue\n",
    "\n",
    "# Print the result\n",
    "print(\"b. Levene's test:\")\n",
    "if p_value < 0.05:\n",
    "    print(\"   The variances of the classes are not equal.\")\n",
    "else:\n",
    "    print(\"   The variances of the classes are equal.\")"
   ]
  },
  {
   "cell_type": "markdown",
   "id": "67ae8423",
   "metadata": {},
   "source": [
    "c. Choosing between LDA and QDA for classification:\n",
    "\n",
    "To determine whether LDA (Linear Discriminant Analysis) or QDA (Quadratic Discriminant Analysis) would perform better for classification on this data, we need to consider the assumptions of each method. LDA assumes that the classes have equal covariance matrices and that the decision boundaries are linear. QDA relaxes the assumption of equal covariance matrices but assumes that the decision boundaries are quadratic.\n",
    "\n",
    "Since we have already checked the equality of variances, if the variances are not equal, QDA would be more appropriate. If the variances are equal and the decision boundaries are expected to be linear, LDA would be preferred."
   ]
  },
  {
   "cell_type": "markdown",
   "id": "077351cd",
   "metadata": {},
   "source": [
    "d. Checking the equality of mean between all the classes:\n",
    "\n",
    "To check the equality of means between all the classes, we can perform a one-way ANOVA with pairwise comparisons using Tukey's HSD (Honestly Significant Difference) test. This test compares all possible pairs of means and provides p-values for each comparison."
   ]
  },
  {
   "cell_type": "code",
   "execution_count": 55,
   "id": "4c834bd5",
   "metadata": {},
   "outputs": [
    {
     "name": "stdout",
     "output_type": "stream",
     "text": [
      "d. Equality of mean for all the classes:\n",
      "   p-value: 4.212994776370074e-113\n",
      "   The means are significantly different.\n"
     ]
    }
   ],
   "source": [
    "import pandas as pd\n",
    "from scipy import stats\n",
    "\n",
    "# Perform one-way ANOVA\n",
    "result = stats.f_oneway(data['Patient ID'], data[' Blood Pressure Before (mmHg)'], data[' Blood Pressure After (mmHg)'])\n",
    "p_value = result.pvalue\n",
    "\n",
    "# Print the result\n",
    "print(\"d. Equality of mean for all the classes:\")\n",
    "print(\"   p-value:\", p_value)\n",
    "if p_value < 0.05:\n",
    "    print(\"   The means are significantly different.\")\n",
    "else:\n",
    "    print(\"   The means are not significantly different.\")"
   ]
  }
 ],
 "metadata": {
  "kernelspec": {
   "display_name": "Python 3 (ipykernel)",
   "language": "python",
   "name": "python3"
  },
  "language_info": {
   "codemirror_mode": {
    "name": "ipython",
    "version": 3
   },
   "file_extension": ".py",
   "mimetype": "text/x-python",
   "name": "python",
   "nbconvert_exporter": "python",
   "pygments_lexer": "ipython3",
   "version": "3.9.12"
  }
 },
 "nbformat": 4,
 "nbformat_minor": 5
}
