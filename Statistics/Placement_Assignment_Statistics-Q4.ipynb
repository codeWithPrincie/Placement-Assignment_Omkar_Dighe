{
 "cells": [
  {
   "cell_type": "markdown",
   "id": "1904ca04",
   "metadata": {},
   "source": [
    "**Q-4.** \n",
    "\n",
    "**A group of 20 friends decide to play a game in which they each write a number\n",
    "between 1 and 20 on a slip of paper and put it into a hat. They then draw one slip of paper\n",
    "at random. What is the probability that the number on the slip of paper is a perfect square\n",
    "(i.e., 1, 4, 9, or 16)?**"
   ]
  },
  {
   "cell_type": "markdown",
   "id": "77064c48",
   "metadata": {},
   "source": [
    "To calculate the probability that the number on the slip of paper is a perfect square, we need to determine the number of favorable outcomes (slips with perfect square numbers) and the total number of possible outcomes (total slips).\n",
    "\n",
    "The favorable outcomes are the perfect square numbers between 1 and 20, which are 1, 4, 9, and 16.\n",
    "\n",
    "The total number of possible outcomes is the total number of slips, which is 20.\n",
    "\n",
    "Therefore, the probability can be calculated as:\n",
    "\n",
    "Probability = (Number of favorable outcomes) / (Total number of possible outcomes)\n",
    "\n",
    "Probability = 4 / 20\n",
    "\n",
    "Probability = 0.2\n",
    "\n",
    "So, the probability that the number on the slip of paper is a perfect square is 0.2 or 20%."
   ]
  },
  {
   "cell_type": "code",
   "execution_count": 25,
   "id": "80c76036",
   "metadata": {},
   "outputs": [
    {
     "name": "stdout",
     "output_type": "stream",
     "text": [
      "The probability that the number on the slip of paper is a perfect square is: 0.2\n"
     ]
    }
   ],
   "source": [
    "favorable_outcomes = [1, 4, 9, 16]\n",
    "total_outcomes = 20\n",
    "\n",
    "probability = len(favorable_outcomes) / total_outcomes\n",
    "\n",
    "print(\"The probability that the number on the slip of paper is a perfect square is:\", probability)\n"
   ]
  }
 ],
 "metadata": {
  "kernelspec": {
   "display_name": "Python 3 (ipykernel)",
   "language": "python",
   "name": "python3"
  },
  "language_info": {
   "codemirror_mode": {
    "name": "ipython",
    "version": 3
   },
   "file_extension": ".py",
   "mimetype": "text/x-python",
   "name": "python",
   "nbconvert_exporter": "python",
   "pygments_lexer": "ipython3",
   "version": "3.9.12"
  }
 },
 "nbformat": 4,
 "nbformat_minor": 5
}
