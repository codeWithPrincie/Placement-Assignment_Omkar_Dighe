{
 "cells": [
  {
   "cell_type": "markdown",
   "id": "81c51afb",
   "metadata": {},
   "source": [
    "**Q-1.** \n",
    "\n",
    "**A university wants to understand the relationship between the SAT scores of its\n",
    "applicants and their college GPA. They collect data on 500 students, including their SAT\n",
    "scores (out of 1600) and their college GPA (on a 4.0 scale). They find that the correlation\n",
    "coefficient between SAT scores and college GPA is 0.7. What does this correlation\n",
    "coefficient indicate about the relationship between SAT scores and college GPA?**"
   ]
  },
  {
   "cell_type": "markdown",
   "id": "5e816261",
   "metadata": {},
   "source": [
    "A correlation coefficient of 0.7 between SAT scores and college GPA indicates a strong positive correlation between these two variables.\n",
    "\n",
    "Here's how we can interpret this correlation coefficient:\n",
    "\n",
    "Magnitude: The correlation coefficient ranges from -1 to 1, where 0 indicates no correlation, -1 indicates a perfect negative correlation, and 1 indicates a perfect positive correlation. In this case, the correlation coefficient of 0.7 suggests a relatively strong positive relationship.\n",
    "\n",
    "Direction: A positive correlation means that as the SAT scores increase, the college GPA tends to increase as well. This implies that students who perform well on the SAT are more likely to have higher GPAs in college.\n",
    "\n",
    "Strength: The correlation coefficient of 0.7 indicates a relatively strong relationship. It suggests that the SAT scores explain about 49% (0.7^2) of the variability in college GPA among the students in the dataset.\n",
    "\n",
    "Note of Caution: While a correlation coefficient of 0.7 indicates a strong positive correlation, it does not necessarily imply a causal relationship. Correlation measures the strength and direction of the linear relationship between two variables but does not provide information about cause and effect. Other factors or variables not included in the analysis may also influence college GPA.\n",
    "\n",
    "In summary, a correlation coefficient of 0.7 suggests a strong positive relationship between SAT scores and college GPA, indicating that higher SAT scores tend to be associated with higher college GPAs among the students in the dataset."
   ]
  }
 ],
 "metadata": {
  "kernelspec": {
   "display_name": "Python 3 (ipykernel)",
   "language": "python",
   "name": "python3"
  },
  "language_info": {
   "codemirror_mode": {
    "name": "ipython",
    "version": 3
   },
   "file_extension": ".py",
   "mimetype": "text/x-python",
   "name": "python",
   "nbconvert_exporter": "python",
   "pygments_lexer": "ipython3",
   "version": "3.9.12"
  }
 },
 "nbformat": 4,
 "nbformat_minor": 5
}
