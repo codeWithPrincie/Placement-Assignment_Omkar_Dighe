{
 "cells": [
  {
   "cell_type": "markdown",
   "id": "ece01481",
   "metadata": {},
   "source": [
    "**Q-3.** \n",
    "\n",
    "**Consider the ‘Blood Pressure Before’ and ‘Blood Pressure After’ columns from the\n",
    "data and calculate the following**\n",
    "\n",
    "https://drive.google.com/file/d/1mCjtYHiX--mMUjicuaP2gH3k-SnFxt8Y/view?usp=share_\n",
    "\n",
    "**a. Measure the dispersion in both and interpret the results.**\n",
    "\n",
    "**b. Calculate mean and 5% confidence interval and plot it in a graph**\n",
    "\n",
    "**c. Calculate the Mean absolute deviation and Standard deviation and interpret\n",
    "the results.**\n",
    "\n",
    "**d. Calculate the correlation coefficient and check the significance of it at 1% level\n",
    "of significance.**"
   ]
  },
  {
   "cell_type": "code",
   "execution_count": 23,
   "id": "e5a94cea",
   "metadata": {},
   "outputs": [
    {
     "name": "stdout",
     "output_type": "stream",
     "text": [
      "Index(['Patient ID', ' Blood Pressure Before (mmHg)',\n",
      "       ' Blood Pressure After (mmHg)'],\n",
      "      dtype='object')\n",
      "Dispersion measures for  Blood Pressure Before (mmHg) :\n",
      "{'Range': 28, 'Variance': 43.10189999999998, 'Standard Deviation': 6.5652037287505385}\n",
      "Dispersion measures for  Blood Pressure After (mmHg) :\n",
      "{'Range': 23, 'Variance': 46.97040000000002, 'Standard Deviation': 6.853495458523338}\n",
      "Mean and 5% confidence interval for  Blood Pressure Before (mmHg) :\n",
      "Mean: 133.91\n",
      "Confidence Interval: (132.61676127359584, 135.20323872640415)\n",
      "Mean and 5% confidence interval for  Blood Pressure After (mmHg) :\n",
      "Mean: 128.36\n",
      "Confidence Interval: (127.00997247543387, 129.71002752456616)\n"
     ]
    },
    {
     "data": {
      "image/png": "[encoded data removed]",
      "text/plain": [
       "<Figure size 432x288 with 1 Axes>"
      ]
     },
     "metadata": {
      "needs_background": "light"
     },
     "output_type": "display_data"
    },
    {
     "name": "stdout",
     "output_type": "stream",
     "text": [
      "Mean Absolute Deviation (MAD) for  Blood Pressure Before (mmHg) : 5.7118\n",
      "Mean Absolute Deviation (MAD) for  Blood Pressure After (mmHg) : 5.9\n",
      "Standard Deviation (SD) for  Blood Pressure Before (mmHg) : 6.5652037287505385\n",
      "Standard Deviation (SD) for  Blood Pressure After (mmHg) : 6.853495458523338\n",
      "Correlation Coefficient: 0.9779485966556027\n",
      "p-value: 1.8097381433033208e-68\n",
      "The correlation is significant at the 1% level of significance.\n"
     ]
    }
   ],
   "source": [
    "import pandas as pd\n",
    "import numpy as np\n",
    "from scipy import stats\n",
    "import matplotlib.pyplot as plt\n",
    "\n",
    "# Load the dataset\n",
    "data = pd.read_csv('data.csv')\n",
    "\n",
    "# Check the column names in the dataset\n",
    "print(data.columns)\n",
    "\n",
    "# Update the column names with leading spaces\n",
    "before_column = ' Blood Pressure Before (mmHg)'\n",
    "after_column = ' Blood Pressure After (mmHg)'\n",
    "\n",
    "# Measure dispersion\n",
    "before_dispersion = {\n",
    "    'Range': np.ptp(data[before_column]),\n",
    "    'Variance': np.var(data[before_column]),\n",
    "    'Standard Deviation': np.std(data[before_column])\n",
    "}\n",
    "\n",
    "after_dispersion = {\n",
    "    'Range': np.ptp(data[after_column]),\n",
    "    'Variance': np.var(data[after_column]),\n",
    "    'Standard Deviation': np.std(data[after_column])\n",
    "}\n",
    "\n",
    "print('Dispersion measures for', before_column, ':')\n",
    "print(before_dispersion)\n",
    "print('Dispersion measures for', after_column, ':')\n",
    "print(after_dispersion)\n",
    "\n",
    "# Calculate mean and confidence interval\n",
    "before_mean = np.mean(data[before_column])\n",
    "before_ci = stats.norm.interval(0.95, loc=before_mean, scale=stats.sem(data[before_column]))\n",
    "\n",
    "after_mean = np.mean(data[after_column])\n",
    "after_ci = stats.norm.interval(0.95, loc=after_mean, scale=stats.sem(data[after_column]))\n",
    "\n",
    "print('Mean and 5% confidence interval for', before_column, ':')\n",
    "print('Mean:', before_mean)\n",
    "print('Confidence Interval:', before_ci)\n",
    "print('Mean and 5% confidence interval for', after_column, ':')\n",
    "print('Mean:', after_mean)\n",
    "print('Confidence Interval:', after_ci)\n",
    "\n",
    "# Plot the means and confidence intervals\n",
    "plt.bar(['Before', 'After'], [before_mean, after_mean], yerr=[before_ci[1] - before_mean, after_ci[1] - after_mean])\n",
    "plt.xlabel('Blood Pressure')\n",
    "plt.ylabel('Mean')\n",
    "plt.title('Mean and 5% Confidence Interval of Blood Pressure')\n",
    "plt.show()\n",
    "\n",
    "# Calculate Mean Absolute Deviation (MAD) and Standard Deviation (SD)\n",
    "before_mad = np.mean(np.abs(data[before_column] - before_mean))\n",
    "after_mad = np.mean(np.abs(data[after_column] - after_mean))\n",
    "\n",
    "before_sd = np.std(data[before_column])\n",
    "after_sd = np.std(data[after_column])\n",
    "\n",
    "print('Mean Absolute Deviation (MAD) for', before_column, ':', before_mad)\n",
    "print('Mean Absolute Deviation (MAD) for', after_column, ':', after_mad)\n",
    "print('Standard Deviation (SD) for', before_column, ':', before_sd)\n",
    "print('Standard Deviation (SD) for', after_column, ':', after_sd)\n",
    "\n",
    "# Calculate correlation coefficient and significance\n",
    "correlation_coefficient, p_value = stats.pearsonr(data[before_column], data[after_column])\n",
    "\n",
    "print('Correlation Coefficient:', correlation_coefficient)\n",
    "print('p-value:', p_value)\n",
    "\n",
    "if p_value < 0.01:\n",
    "    print('The correlation is significant at the 1% level of significance.')\n",
    "else:\n",
    "    print('The correlation is not significant at the 1% level of significance.')"
   ]
  }
 ],
 "metadata": {
  "kernelspec": {
   "display_name": "Python 3 (ipykernel)",
   "language": "python",
   "name": "python3"
  },
  "language_info": {
   "codemirror_mode": {
    "name": "ipython",
    "version": 3
   },
   "file_extension": ".py",
   "mimetype": "text/x-python",
   "name": "python",
   "nbconvert_exporter": "python",
   "pygments_lexer": "ipython3",
   "version": "3.9.12"
  }
 },
 "nbformat": 4,
 "nbformat_minor": 5
}
