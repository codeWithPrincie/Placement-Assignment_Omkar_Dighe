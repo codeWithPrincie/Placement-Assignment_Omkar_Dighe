{
 "cells": [
  {
   "cell_type": "markdown",
   "id": "3e568d72",
   "metadata": {},
   "source": [
    "**Q-2.** \n",
    "\n",
    "**Consider a dataset containing the heights (in centimeters) of 1000 individuals. The\n",
    "mean height is 170 cm with a standard deviation of 10 cm. The dataset is approximately\n",
    "normally distributed, and its skewness is approximately zero. Based on this information,\n",
    "answer the following questions:**\n",
    "\n",
    "**a. What percentage of individuals in the dataset have heights between 160 cm\n",
    "and 180 cm?**\n",
    "\n",
    "**b. If we randomly select 100 individuals from the dataset, what is the probability\n",
    "that their average height is greater than 175 cm?**\n",
    "\n",
    "**c. Assuming the dataset follows a normal distribution, what is the z-score\n",
    "corresponding to a height of 185 cm?**\n",
    "\n",
    "**d. We know that 5% of the dataset has heights below a certain value. What is\n",
    "the approximate height corresponding to this threshold?**\n",
    "\n",
    "**e. Calculate the coefficient of variation (CV) for the dataset.**\n",
    "\n",
    "**f. Calculate the skewness of the dataset and interpret the result.**"
   ]
  },
  {
   "cell_type": "markdown",
   "id": "1e95bf0b",
   "metadata": {},
   "source": [
    "a. To find the percentage of individuals in the dataset with heights between 160 cm and 180 cm, we can use the properties of the normal distribution. Since the dataset is approximately normally distributed, we can calculate this percentage using the cumulative distribution function (CDF)."
   ]
  },
  {
   "cell_type": "code",
   "execution_count": 7,
   "id": "27ffcc29",
   "metadata": {},
   "outputs": [
    {
     "name": "stdout",
     "output_type": "stream",
     "text": [
      "Percentage of individuals with heights between 160 cm and 180 cm: 68.26894921370858\n"
     ]
    }
   ],
   "source": [
    "import scipy.stats as stats\n",
    "\n",
    "mean = 170\n",
    "std_dev = 10\n",
    "\n",
    "# Calculate z-scores for 160 cm and 180 cm\n",
    "z_160 = (160 - mean) / std_dev\n",
    "z_180 = (180 - mean) / std_dev\n",
    "\n",
    "# Find the percentage using the CDF\n",
    "percentage = (stats.norm.cdf(z_180) - stats.norm.cdf(z_160)) * 100\n",
    "\n",
    "print(\"Percentage of individuals with heights between 160 cm and 180 cm:\", percentage)"
   ]
  },
  {
   "cell_type": "markdown",
   "id": "54b8977f",
   "metadata": {},
   "source": [
    "b. To calculate the probability that the average height of 100 randomly selected individuals is greater than 175 cm, we need to use the Central Limit Theorem. According to the Central Limit Theorem, the distribution of sample means approaches a normal distribution as the sample size increases.\n",
    "\n",
    "Since the dataset is approximately normally distributed and we are sampling 100 individuals, we can use the properties of the normal distribution to calculate this probability.\n",
    "\n",
    "The mean of the sample means will be the same as the population mean, which is 170 cm. The standard deviation of the sample means (also known as the standard error) can be calculated by dividing the population standard deviation by the square root of the sample size (10 / sqrt(100))."
   ]
  },
  {
   "cell_type": "code",
   "execution_count": 8,
   "id": "5cb6a53b",
   "metadata": {},
   "outputs": [
    {
     "name": "stdout",
     "output_type": "stream",
     "text": [
      "Probability that the average height of 100 individuals is greater than 175 cm: 2.866515719235352e-07\n"
     ]
    }
   ],
   "source": [
    "import math\n",
    "\n",
    "sample_size = 100\n",
    "sample_mean = mean\n",
    "sample_std_dev = std_dev / math.sqrt(sample_size)\n",
    "\n",
    "# Calculate z-score for 175 cm\n",
    "z_score = (175 - sample_mean) / sample_std_dev\n",
    "\n",
    "# Find the probability using the CDF\n",
    "probability = 1 - stats.norm.cdf(z_score)\n",
    "\n",
    "print(\"Probability that the average height of 100 individuals is greater than 175 cm:\", probability)"
   ]
  },
  {
   "cell_type": "markdown",
   "id": "05243644",
   "metadata": {},
   "source": [
    "c. To calculate the z-score corresponding to a height of 185 cm, we can use the same formula as before."
   ]
  },
  {
   "cell_type": "code",
   "execution_count": 9,
   "id": "7cc201d0",
   "metadata": {},
   "outputs": [
    {
     "name": "stdout",
     "output_type": "stream",
     "text": [
      "The z-score corresponding to a height of 185 cm: 1.5\n"
     ]
    }
   ],
   "source": [
    "height = 185\n",
    "\n",
    "# Calculate z-score for 185 cm\n",
    "z_score = (height - mean) / std_dev\n",
    "\n",
    "print(\"The z-score corresponding to a height of 185 cm:\", z_score)"
   ]
  },
  {
   "cell_type": "markdown",
   "id": "96456a10",
   "metadata": {},
   "source": [
    "d. To find the approximate height corresponding to the threshold of 5% of the dataset having heights below a certain value, we can use the inverse of the CDF.\n",
    "\n",
    "Since we want to find the height below which 5% of the dataset falls, we need to find the value corresponding to a CDF of 0.05."
   ]
  },
  {
   "cell_type": "code",
   "execution_count": 10,
   "id": "f1a1bbe4",
   "metadata": {},
   "outputs": [
    {
     "name": "stdout",
     "output_type": "stream",
     "text": [
      "The approximate height corresponding to the threshold of 5%: 153.55146373048527\n"
     ]
    }
   ],
   "source": [
    "threshold_cdf = 0.05\n",
    "\n",
    "# Find the value using the inverse CDF (percent point function)\n",
    "threshold_height = stats.norm.ppf(threshold_cdf, loc=mean, scale=std_dev)\n",
    "\n",
    "print(\"The approximate height corresponding to the threshold of 5%:\", threshold_height)"
   ]
  },
  {
   "cell_type": "markdown",
   "id": "2bd4d6c3",
   "metadata": {},
   "source": [
    "e. Calculate the coefficient of variation (CV) for the dataset."
   ]
  },
  {
   "cell_type": "code",
   "execution_count": 11,
   "id": "a53aea1f",
   "metadata": {},
   "outputs": [
    {
     "name": "stdout",
     "output_type": "stream",
     "text": [
      "The coefficient of variation (CV) for the dataset is: 5.88%\n"
     ]
    }
   ],
   "source": [
    "cv = (std_dev / mean) * 100\n",
    "\n",
    "print(f\"The coefficient of variation (CV) for the dataset is: {cv:.2f}%\")"
   ]
  },
  {
   "cell_type": "markdown",
   "id": "fc5f4bd1",
   "metadata": {},
   "source": [
    "f. To calculate the skewness of the dataset, we can use the skew() function from the scipy.stats module. Skewness measures the asymmetry of the distribution."
   ]
  },
  {
   "cell_type": "code",
   "execution_count": 14,
   "id": "198cdb13",
   "metadata": {},
   "outputs": [
    {
     "name": "stdout",
     "output_type": "stream",
     "text": [
      "The skewness of the dataset is: -0.02\n"
     ]
    }
   ],
   "source": [
    "skewness = stats.skew(data)\n",
    "\n",
    "print(f\"The skewness of the dataset is: {float(skewness[0]):.2f}\")"
   ]
  }
 ],
 "metadata": {
  "kernelspec": {
   "display_name": "Python 3 (ipykernel)",
   "language": "python",
   "name": "python3"
  },
  "language_info": {
   "codemirror_mode": {
    "name": "ipython",
    "version": 3
   },
   "file_extension": ".py",
   "mimetype": "text/x-python",
   "name": "python",
   "nbconvert_exporter": "python",
   "pygments_lexer": "ipython3",
   "version": "3.9.12"
  }
 },
 "nbformat": 4,
 "nbformat_minor": 5
}
