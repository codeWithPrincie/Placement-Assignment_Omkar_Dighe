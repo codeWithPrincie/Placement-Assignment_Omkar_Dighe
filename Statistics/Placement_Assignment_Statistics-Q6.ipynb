{
 "cells": [
  {
   "cell_type": "markdown",
   "id": "db233177",
   "metadata": {},
   "source": [
    "**Q-6.** \n",
    "\n",
    "**A pharmaceutical company is developing a drug that is supposed to reduce blood\n",
    "pressure. They conduct a clinical trial with 100 patients and record their blood\n",
    "pressure before and after taking the drug. The company wants to know if the change\n",
    "in blood pressure follows a normal distribution.**"
   ]
  },
  {
   "cell_type": "code",
   "execution_count": 36,
   "id": "5c2dd23c",
   "metadata": {},
   "outputs": [],
   "source": [
    "import pandas as pd\n",
    "from scipy.stats import shapiro\n",
    "\n",
    "data = pd.read_csv('data.csv')\n",
    "change_in_bp = data[' Blood Pressure After (mmHg)'] - data[' Blood Pressure Before (mmHg)']"
   ]
  },
  {
   "cell_type": "code",
   "execution_count": 37,
   "id": "d707d491",
   "metadata": {},
   "outputs": [
    {
     "name": "stdout",
     "output_type": "stream",
     "text": [
      "Shapiro-Wilk test p-value: 0.0014938802924007177\n"
     ]
    }
   ],
   "source": [
    "stat, p_value = shapiro(change_in_bp)\n",
    "\n",
    "print(\"Shapiro-Wilk test p-value:\", p_value)"
   ]
  },
  {
   "cell_type": "markdown",
   "id": "a43b8e7d",
   "metadata": {},
   "source": [
    "In this code, we first load the dataset and calculate the difference in blood pressure (after - before) for each patient. Then, we use the shapiro function from the scipy.stats module to perform the Shapiro-Wilk test. The test returns a test statistic and a p-value. We compare the p-value to the chosen significance level (alpha) to determine if we reject or fail to reject the null hypothesis.\n",
    "\n",
    "If the p-value is greater than the significance level, we conclude that the change in blood pressure follows a normal distribution. Otherwise, if the p-value is less than or equal to the significance level, we conclude that the change in blood pressure does not follow a normal distribution."
   ]
  }
 ],
 "metadata": {
  "kernelspec": {
   "display_name": "Python 3 (ipykernel)",
   "language": "python",
   "name": "python3"
  },
  "language_info": {
   "codemirror_mode": {
    "name": "ipython",
    "version": 3
   },
   "file_extension": ".py",
   "mimetype": "text/x-python",
   "name": "python",
   "nbconvert_exporter": "python",
   "pygments_lexer": "ipython3",
   "version": "3.9.12"
  }
 },
 "nbformat": 4,
 "nbformat_minor": 5
}
