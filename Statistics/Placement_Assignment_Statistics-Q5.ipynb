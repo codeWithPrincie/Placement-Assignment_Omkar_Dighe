{
 "cells": [
  {
   "cell_type": "markdown",
   "id": "9051b783",
   "metadata": {},
   "source": [
    "**Q-5.** \n",
    "\n",
    "**A certain city has two taxi companies: Company A has 80% of the taxis and\n",
    "Company B has 20% of the taxis. Company A's taxis have a 95% success rate for picking\n",
    "up passengers on time, while Company B's taxis have a 90% success rate. If a randomly\n",
    "selected taxi is late, what is the probability that it belongs to Company A?**"
   ]
  },
  {
   "cell_type": "markdown",
   "id": "e63e6565",
   "metadata": {},
   "source": [
    "To solve this problem, we can use Bayes' theorem. Let's define the events:\n",
    "\n",
    "A: Taxi belongs to Company A\n",
    "B: Taxi belongs to Company B\n",
    "L: Taxi is late\n",
    "\n",
    "We need to find the probability of A given L, i.e., P(A|L).\n",
    "\n",
    "Using Bayes' theorem, we have:\n",
    "\n",
    "P(A|L) = (P(L|A) * P(A)) / P(L)\n",
    "\n",
    "P(L|A) = 1 - success rate of Company A = 1 - 0.95 = 0.05\n",
    "P(L|B) = 1 - success rate of Company B = 1 - 0.90 = 0.10\n",
    "\n",
    "P(A) = probability of selecting a taxi from Company A = 0.80\n",
    "P(B) = probability of selecting a taxi from Company B = 0.20\n",
    "\n",
    "P(L) = P(L|A) * P(A) + P(L|B) * P(B)\n",
    "\n",
    "Now, we can calculate P(A|L):\n",
    "\n",
    "P(A|L) = (P(L|A) * P(A)) / P(L)"
   ]
  },
  {
   "cell_type": "code",
   "execution_count": 26,
   "id": "5a7644bc",
   "metadata": {},
   "outputs": [
    {
     "name": "stdout",
     "output_type": "stream",
     "text": [
      "The probability that a late taxi belongs to Company A is: 0.6666666666666666\n"
     ]
    }
   ],
   "source": [
    "P_L_A = 0.05\n",
    "P_L_B = 0.10\n",
    "P_A = 0.80\n",
    "P_B = 0.20\n",
    "\n",
    "P_L = P_L_A * P_A + P_L_B * P_B\n",
    "\n",
    "P_A_given_L = (P_L_A * P_A) / P_L\n",
    "\n",
    "print(\"The probability that a late taxi belongs to Company A is:\", P_A_given_L)\n"
   ]
  }
 ],
 "metadata": {
  "kernelspec": {
   "display_name": "Python 3 (ipykernel)",
   "language": "python",
   "name": "python3"
  },
  "language_info": {
   "codemirror_mode": {
    "name": "ipython",
    "version": 3
   },
   "file_extension": ".py",
   "mimetype": "text/x-python",
   "name": "python",
   "nbconvert_exporter": "python",
   "pygments_lexer": "ipython3",
   "version": "3.9.12"
  }
 },
 "nbformat": 4,
 "nbformat_minor": 5
}
