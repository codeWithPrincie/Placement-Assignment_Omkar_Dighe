{
 "cells": [
  {
   "cell_type": "markdown",
   "id": "b83a0dca",
   "metadata": {},
   "source": [
    "**Q-8.** \n",
    "\n",
    "**The anxiety levels of 10 participants were measured before and after a new therapy.\n",
    "The scores are not normally distributed. Use the Wilcoxon signed-rank test to test whether\n",
    "the therapy had a significant effect on anxiety levels. The data is given below: Participant\n",
    "Before therapy After therapy Difference**"
   ]
  },
  {
   "cell_type": "markdown",
   "id": "6f1b0c8e",
   "metadata": {},
   "source": [
    "**Ans.**\n",
    "\n",
    "The Wilcoxon signed-rank test is a non-parametric test used when the data is not normally distributed. It compares the paired observations (in this case, the before and after therapy scores) to assess whether there is a significant difference.\n",
    "\n",
    "To conduct the Wilcoxon signed-rank test, we need to calculate the signed ranks for the differences between before and after therapy scores. The steps involved are as follows:\n",
    "\n",
    "Step 1: Calculate the differences between before and after therapy scores: Difference = After Therapy - Before Therapy\n",
    "\n",
    "Participant Before Therapy After Therapy Difference 1 10 7 -3 2 8 6 -2 3 12 10 -2 4 15 12 -3 5 6 5 -1 6 9 8 -1 7 11 9 -2 8 7 6 -1 9 14 12 -2 10 10 8 -2\n",
    "\n",
    "Step 2: Rank the absolute values of the differences from smallest to largest, disregarding the signs: Participant Difference Absolute Value Rank 1 -3 3 6 2 -2 2 3.5 3 -2 2 3.5 4 -3 3 6 5 -1 1 1 6 -1 1 1 7 -2 2 3.5 8 -1 1 1 9 -2 2 3.5 10 -2 2 3.5\n",
    "\n",
    "Step 3: Assign the signed ranks to the differences based on their signs: Participant Difference Absolute Value Rank Signed Rank 1 -3 3 6 -6 2 -2 2 3.5 -3.5 3 -2 2 3.5 -3.5 4 -3 3 6 -6 5 -1 1 1 -1 6 -1 1 1 -1 7 -2 2 3.5 -3.5 8 -1 1 1 -1 9 -2 2 3.5 -3.5 10 -2 2 3.5 -3.5\n",
    "\n",
    "Step 4: Calculate the sum of the positive and negative signed ranks: Sum of Positive Ranks (W+) = 0 Sum of Negative Ranks (W-) = -3.5 - 3.5 - 3.5 - 6 - 6 = -22.5\n",
    "\n",
    "Step 5: Identify the smaller of the two sums (W) from Step 4: W = min(W+, W-) = -22.5\n",
    "\n",
    "Step 6: Determine the critical value for the Wilcoxon signed-rank test with 10 participants. Since the critical values vary depending on the significance level and sample size, we can refer to the Wilcoxon signed-rank table or use statistical software. Let's assume a significance level of 0.05.\n",
    "\n",
    "For a two-tailed test with n = 10 and α = 0.05, the critical value is ±23. Based on the absolute value of W, we can compare it with the critical value to determine whether the therapy had a significant effect on anxiety levels.\n",
    "\n",
    "|W| = |-22.5| = 22.5 < 23\n",
    "\n",
    "Step 7: Make a conclusion: Since |W| < the critical value, we fail to reject the null hypothesis. There is not enough evidence to conclude that the therapy had a significant effect on anxiety levels.\n",
    "\n",
    "Therefore, based on the Wilcoxon signed-rank test, we cannot conclude that the therapy had a significant effect on anxiety levels for the given data."
   ]
  }
 ],
 "metadata": {
  "kernelspec": {
   "display_name": "Python 3 (ipykernel)",
   "language": "python",
   "name": "python3"
  },
  "language_info": {
   "codemirror_mode": {
    "name": "ipython",
    "version": 3
   },
   "file_extension": ".py",
   "mimetype": "text/x-python",
   "name": "python",
   "nbconvert_exporter": "python",
   "pygments_lexer": "ipython3",
   "version": "3.9.12"
  }
 },
 "nbformat": 4,
 "nbformat_minor": 5
}
