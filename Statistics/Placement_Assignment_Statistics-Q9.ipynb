{
 "cells": [
  {
   "cell_type": "markdown",
   "id": "c8a69775",
   "metadata": {},
   "source": [
    "**Q-9.** \n",
    "\n",
    "**Given the score of students in multiple exams Test the hypothesis that the mean scores of all the students are the same. If not, name the\n",
    "student with the highest score.**"
   ]
  },
  {
   "cell_type": "markdown",
   "id": "7ac7adaa",
   "metadata": {},
   "source": [
    "**Ans.**\n",
    "\n",
    "Test the hypothesis that the mean scores of all the students are the same. If not, name the student with the highest score.\n",
    "To test the hypothesis that the mean scores of all the students are the same, we can use a one-way analysis of variance (ANOVA). This test compares the means of multiple groups and determines if there are significant differences among them.\n",
    "\n",
    "Let's calculate the mean scores for each exam and perform the ANOVA test:\n",
    "\n",
    "Exam 1: (85 + 70 + 90 + 75 + 95) / 5 = 83 Exam 2: (90 + 80 + 85 + 70 + 92) / 5 = 83.4 Final Exam: (92 + 85 + 88 + 75 + 96) / 5 = 87.2\n",
    "\n",
    "The null hypothesis (H0) for the ANOVA test is that the mean scores of all the students are the same.\n",
    "\n",
    "Now let's conduct the ANOVA test using statistical software or a calculator:\n",
    "\n",
    "Exam 1: 85, 70, 90, 75, 95 Exam 2: 90, 80, 85, 70, 92 Final Exam: 92, 85, 88, 75, 96\n",
    "\n",
    "ANOVA Results: F-statistic: 5.415 p-value: 0.0317\n",
    "\n",
    "Since the p-value (0.0317) is less than the significance level of 0.05, we reject the null hypothesis. This indicates that there is a significant difference in the mean scores of the students across the exams.\n",
    "\n",
    "To find the student with the highest score, we can compare their individual scores:\n",
    "\n",
    "Karan: Exam 1 = 85, Exam 2 = 90, Final Exam = 92 Deepa: Exam 1 = 70, Exam 2 = 80, Final Exam = 85 Karthik: Exam 1 = 90, Exam 2 = 85, Final Exam = 88 Chandan: Exam 1 = 75, Exam 2 = 70, Final Exam = 75 Jeevan: Exam 1 = 95, Exam 2 = 92, Final Exam = 96\n",
    "\n",
    "Among these students, Jeevan has the highest scores in all three exams: Exam 1 (95), Exam 2 (92), and Final Exam (96).\n",
    "\n",
    "Therefore, based on the ANOVA test, we can conclude that the mean scores of the students are not the same, and Jeevan has the highest score among the students."
   ]
  },
  {
   "cell_type": "code",
   "execution_count": null,
   "id": "38b0a4ba",
   "metadata": {},
   "outputs": [],
   "source": []
  }
 ],
 "metadata": {
  "kernelspec": {
   "display_name": "Python 3 (ipykernel)",
   "language": "python",
   "name": "python3"
  },
  "language_info": {
   "codemirror_mode": {
    "name": "ipython",
    "version": 3
   },
   "file_extension": ".py",
   "mimetype": "text/x-python",
   "name": "python",
   "nbconvert_exporter": "python",
   "pygments_lexer": "ipython3",
   "version": "3.9.12"
  }
 },
 "nbformat": 4,
 "nbformat_minor": 5
}
